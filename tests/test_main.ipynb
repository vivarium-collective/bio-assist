{
 "cells": [
  {
   "cell_type": "code",
   "id": "initial_id",
   "metadata": {
    "collapsed": true,
    "ExecuteTime": {
     "end_time": "2024-06-06T16:44:14.545281Z",
     "start_time": "2024-06-06T16:44:14.543476Z"
    }
   },
   "source": "import requests ",
   "outputs": [],
   "execution_count": 5
  },
  {
   "metadata": {
    "ExecuteTime": {
     "end_time": "2024-06-06T16:44:14.893250Z",
     "start_time": "2024-06-06T16:44:14.891207Z"
    }
   },
   "cell_type": "code",
   "source": "url = 'https://www.ncbi.nlm.nih.gov/CBBresearch/Lu/Demo/RESTful/tmTool.cgi/Chemical/19894120/JSON/'",
   "id": "5793375b53ff62ce",
   "outputs": [],
   "execution_count": 6
  },
  {
   "metadata": {
    "ExecuteTime": {
     "end_time": "2024-06-06T16:44:16.238303Z",
     "start_time": "2024-06-06T16:44:15.255139Z"
    }
   },
   "cell_type": "code",
   "source": "response = requests.get(url, headers={'accept': 'application/json'})",
   "id": "f047d961073a16bb",
   "outputs": [],
   "execution_count": 7
  },
  {
   "metadata": {
    "ExecuteTime": {
     "end_time": "2024-06-06T16:44:16.777969Z",
     "start_time": "2024-06-06T16:44:16.775445Z"
    }
   },
   "cell_type": "code",
   "source": "response",
   "id": "5a1c6ea4a357e",
   "outputs": [
    {
     "data": {
      "text/plain": [
       "<Response [500]>"
      ]
     },
     "execution_count": 8,
     "metadata": {},
     "output_type": "execute_result"
    }
   ],
   "execution_count": 8
  },
  {
   "metadata": {},
   "cell_type": "code",
   "outputs": [],
   "execution_count": null,
   "source": "",
   "id": "3efdb2696e3e85a2"
  }
 ],
 "metadata": {
  "kernelspec": {
   "display_name": "Python 3",
   "language": "python",
   "name": "python3"
  },
  "language_info": {
   "codemirror_mode": {
    "name": "ipython",
    "version": 2
   },
   "file_extension": ".py",
   "mimetype": "text/x-python",
   "name": "python",
   "nbconvert_exporter": "python",
   "pygments_lexer": "ipython2",
   "version": "2.7.6"
  }
 },
 "nbformat": 4,
 "nbformat_minor": 5
}
